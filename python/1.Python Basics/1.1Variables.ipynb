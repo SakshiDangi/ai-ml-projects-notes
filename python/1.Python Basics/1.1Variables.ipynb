{
 "cells": [
  {
   "cell_type": "markdown",
   "id": "21e0af7c",
   "metadata": {},
   "source": [
    "### Varibles\n",
    "Varibles are fundamental elements in programming used to store data that can be referenced & manipulated in a program. In Python, variables are created when you assign a value to them, and they do not need explicit declaration to reserve memory space. The declaration happens automatically when you assign a value to a variable."
   ]
  },
  {
   "cell_type": "code",
   "execution_count": null,
   "id": "5c758639",
   "metadata": {},
   "outputs": [],
   "source": [
    "## Declaring & Assigning Variables\n",
    "\n"
   ]
  }
 ],
 "metadata": {
  "language_info": {
   "name": "python"
  }
 },
 "nbformat": 4,
 "nbformat_minor": 5
}
